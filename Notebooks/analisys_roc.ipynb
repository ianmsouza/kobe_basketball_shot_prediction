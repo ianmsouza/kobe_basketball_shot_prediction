{
 "cells": [
  {
   "cell_type": "code",
   "execution_count": 14,
   "metadata": {},
   "outputs": [
    {
     "name": "stdout",
     "output_type": "stream",
     "text": [
      "Transformation Pipeline and Model Successfully Loaded\n",
      "Threshold Ideal: 0.56\n",
      "AUC Score: 0.59\n",
      "Gráfico salvo em: Docs/Imagens/curva_roc.png\n"
     ]
    },
    {
     "data": {
      "text/plain": [
       "<Figure size 1000x600 with 0 Axes>"
      ]
     },
     "metadata": {},
     "output_type": "display_data"
    }
   ],
   "source": [
    "# roc_analysis.py\n",
    "import matplotlib.pyplot as plt\n",
    "import pandas as pd\n",
    "from sklearn.metrics import roc_curve, auc, RocCurveDisplay\n",
    "from pycaret.classification import load_model\n",
    "\n",
    "def analyze_roc(model_path, test_data_path, output_dir=\"../Docs/Imagens\"):\n",
    "    \"\"\"\n",
    "    Gera análise da curva ROC e determina o threshold ideal.\n",
    "    \n",
    "    Args:\n",
    "        model_path: Caminho para o modelo treinado (.pkl)\n",
    "        test_data_path: Caminho para os dados de teste (.parquet)\n",
    "        output_dir: Pasta para salvar o gráfico\n",
    "    \"\"\"\n",
    "    # Carregar modelo e dados\n",
    "    model = load_model(model_path)\n",
    "    df_test = pd.read_parquet(test_data_path)\n",
    "    \n",
    "    # Extrair features e target\n",
    "    X_test = df_test.drop(columns=\"shot_made_flag\")\n",
    "    y_true = df_test[\"shot_made_flag\"]\n",
    "    \n",
    "    # Obter probabilidades preditas\n",
    "    y_proba = model.predict_proba(X_test)[:, 1]\n",
    "    \n",
    "    # Calcular métricas ROC\n",
    "    fpr, tpr, thresholds = roc_curve(y_true, y_proba)\n",
    "    roc_auc = auc(fpr, tpr)\n",
    "    \n",
    "    # Encontrar threshold ideal pelo índice de Youden\n",
    "    youden_idx = (tpr - fpr).argmax()\n",
    "    optimal_threshold = thresholds[youden_idx]\n",
    "    \n",
    "    # Plotar curva ROC\n",
    "    plt.figure(figsize=(10, 6))\n",
    "    RocCurveDisplay(fpr=fpr, tpr=tpr, roc_auc=roc_auc).plot()\n",
    "    plt.plot(fpr[youden_idx], tpr[youden_idx], 'ro', \n",
    "             label=f'Threshold Ideal ({optimal_threshold:.2f})')\n",
    "    plt.title(f'Curva ROC (AUC = {roc_auc:.2f})')\n",
    "    plt.legend(loc='lower right')\n",
    "    \n",
    "    # Salvar gráfico\n",
    "    os.makedirs(output_dir, exist_ok=True)\n",
    "    plt.savefig(f\"{output_dir}/curva_roc.png\")\n",
    "    plt.close()\n",
    "    \n",
    "    return optimal_threshold, roc_auc\n",
    "\n",
    "if __name__ == \"__main__\":\n",
    "    threshold, auc_score = analyze_roc(\n",
    "        model_path=\"../Data/Modeling/modelo_final\",\n",
    "        test_data_path=\"../Data/Processed/base_test.parquet\"\n",
    "    )\n",
    "    \n",
    "    print(f\"Threshold Ideal: {threshold:.2f}\")\n",
    "    print(f\"AUC Score: {auc_score:.2f}\")\n",
    "    print(\"Gráfico salvo em: Docs/Imagens/curva_roc.png\")"
   ]
  }
 ],
 "metadata": {
  "kernelspec": {
   "display_name": "infnet-25E1_3_v2",
   "language": "python",
   "name": "python3"
  },
  "language_info": {
   "codemirror_mode": {
    "name": "ipython",
    "version": 3
   },
   "file_extension": ".py",
   "mimetype": "text/x-python",
   "name": "python",
   "nbconvert_exporter": "python",
   "pygments_lexer": "ipython3",
   "version": "3.9.21"
  }
 },
 "nbformat": 4,
 "nbformat_minor": 2
}
