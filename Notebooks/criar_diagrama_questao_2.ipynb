{
 "cells": [
  {
   "cell_type": "code",
   "execution_count": 1,
   "metadata": {},
   "outputs": [
    {
     "data": {
      "text/plain": [
       "'..\\\\Docs\\\\Diagramas\\\\fluxograma_questao2.png'"
      ]
     },
     "execution_count": 1,
     "metadata": {},
     "output_type": "execute_result"
    }
   ],
   "source": [
    "from graphviz import Digraph\n",
    "\n",
    "# Criar o fluxograma\n",
    "fluxograma = Digraph(comment='Fluxograma da Questão 2')\n",
    "\n",
    "# Etapas\n",
    "fluxograma.node('1', '1️⃣ Aquisição de Dados\\n- Coleta dos arquivos\\n- Armazenamento em /Data/Raw')\n",
    "fluxograma.node('2', '2️⃣ Pré-processamento\\n- Remoção de nulos\\n- Seleção de colunas\\n- Salvar em /Data/Processed')\n",
    "fluxograma.node('3', '3️⃣ Separação Treino/Teste\\n- 80/20 estratificado\\n- base_train.parquet / base_test.parquet')\n",
    "fluxograma.node('4', '4️⃣ Treinamento\\n- Regressão Logística\\n- Árvore de Decisão\\n- PyCaret + MLFlow')\n",
    "fluxograma.node('5', '5️⃣ Avaliação\\n- Log-Loss\\n- F1-score\\n- Seleção do melhor modelo')\n",
    "fluxograma.node('6', '6️⃣ Deploy/Operacionalização\\n- MLflow para tracking\\n- Streamlit para interface\\n- Modelo embarcado (.pkl)')\n",
    "fluxograma.node('7', '7️⃣ Monitoramento\\n- Métricas em produção\\n- Avaliação contínua')\n",
    "fluxograma.node('8', '8️⃣ Atualização do Modelo\\n- Estratégias Reativa e Preditiva')\n",
    "\n",
    "# Conexões\n",
    "fluxograma.edges([\n",
    "    ('1', '2'),\n",
    "    ('2', '3'),\n",
    "    ('3', '4'),\n",
    "    ('4', '5'),\n",
    "    ('5', '6'),\n",
    "    ('6', '7'),\n",
    "    ('7', '8')\n",
    "])\n",
    "\n",
    "# Renderizar o fluxograma\n",
    "fluxograma.render('../Docs/Diagramas/fluxograma_questao2', format='png', cleanup=True)\n"
   ]
  }
 ],
 "metadata": {
  "kernelspec": {
   "display_name": "infnet-25E1_3_v2",
   "language": "python",
   "name": "python3"
  },
  "language_info": {
   "codemirror_mode": {
    "name": "ipython",
    "version": 3
   },
   "file_extension": ".py",
   "mimetype": "text/x-python",
   "name": "python",
   "nbconvert_exporter": "python",
   "pygments_lexer": "ipython3",
   "version": "3.9.21"
  }
 },
 "nbformat": 4,
 "nbformat_minor": 2
}
